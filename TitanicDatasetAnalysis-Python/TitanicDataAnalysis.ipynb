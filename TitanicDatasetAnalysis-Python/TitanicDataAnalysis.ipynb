{
 "cells": [
  {
   "cell_type": "markdown",
   "id": "2219ee4f-c55d-4201-9b71-d7eba557a88c",
   "metadata": {},
   "source": [
    "<h1>Titanic Dataset Analysis"
   ]
  },
  {
   "cell_type": "markdown",
   "id": "730d2547-343a-4d3e-b4bf-ed5ced872f3b",
   "metadata": {},
   "source": [
    "## Introduction\n",
    "\n",
    "### Dataset Overview\n",
    "The Titanic dataset contains detailed information about the passengers aboard the RMS Titanic, which sank on its maiden voyage in April 1912. The dataset is widely used to explore data analysis techniques, feature engineering, and predictive modeling.\n",
    "\n",
    "### Purpose of Analysis\n",
    "The primary purpose of this analysis is to explore and understand the factors that influenced passenger survival during the Titanic disaster. Specifically, we will examine factors such as:\n",
    "- Age\n",
    "- Class\n",
    "- Gender\n",
    "- Family size"
   ]
  },
  {
   "cell_type": "markdown",
   "id": "cb8d353c-a29d-46af-9bb1-1a911ee84c7e",
   "metadata": {},
   "source": [
    "<h4>Importing all libraries need in analysis of Titanic Dataset"
   ]
  },
  {
   "cell_type": "code",
   "execution_count": 1,
   "id": "0a3d585a-cd1c-4279-81be-bc5b4785239b",
   "metadata": {},
   "outputs": [],
   "source": [
    "import numpy as np                       #for numerical computation\n",
    "import pandas as pd                      #for data manipulation and analysis\n",
    "import matplotlib.pyplot as plt          #for data visualization\n",
    "import seaborn as sns                    #for data visualization"
   ]
  },
  {
   "cell_type": "code",
   "execution_count": 2,
   "id": "bf8ac563-4a95-4847-9cb4-c94cd55b7f1a",
   "metadata": {},
   "outputs": [],
   "source": [
    "#Changing setting of pandas to display full dataset instead of showing dotted data columns\n",
    "pd.set_option('display.max_rows',None)"
   ]
  },
  {
   "cell_type": "markdown",
   "id": "80e7efba-bb9b-4c07-baa3-decd663e3024",
   "metadata": {},
   "source": [
    "<h2>1.Data Collection"
   ]
  },
  {
   "cell_type": "markdown",
   "id": "6f904c0a-8db6-4f3f-a243-0450d947394d",
   "metadata": {},
   "source": [
    "<h5>>Listing the Titanic Data directory"
   ]
  },
  {
   "cell_type": "code",
   "execution_count": 3,
   "id": "60dd1b80-077a-4657-a3e4-f5d971ee77e6",
   "metadata": {},
   "outputs": [
    {
     "data": {
      "text/plain": [
       "['.ipynb_checkpoints',\n",
       " 'combined_TitanicDataset.csv',\n",
       " 'gender_submission.csv',\n",
       " 'test.csv',\n",
       " 'train.csv']"
      ]
     },
     "execution_count": 3,
     "metadata": {},
     "output_type": "execute_result"
    }
   ],
   "source": [
    "import os                               #for listing the files in titanic directory\n",
    "os.listdir(\"C:/jupyter/titanic\")"
   ]
  },
  {
   "cell_type": "markdown",
   "id": "9d06edb4-dd85-429c-858d-9298dd71eb5b",
   "metadata": {},
   "source": [
    "<h5>>Loading the data into Pandas DataFrame"
   ]
  },
  {
   "cell_type": "code",
   "execution_count": 4,
   "id": "a700d589-6d07-44af-8840-12006646d69f",
   "metadata": {},
   "outputs": [],
   "source": [
    "train_df=pd.read_csv('titanic/train.csv')\n",
    "test_df=pd.read_csv('titanic/test.csv')\n",
    "submission_df=pd.read_csv('titanic/gender_submission.csv')"
   ]
  },
  {
   "cell_type": "markdown",
   "id": "6bf03b82-39aa-4e30-b6cc-e9ee1a917f9f",
   "metadata": {},
   "source": [
    "<h5>>Displying first 5 records of Titanic Dataset"
   ]
  },
  {
   "cell_type": "code",
   "execution_count": 46,
   "id": "590d03ce-3171-4096-9a30-afafdf2a8f61",
   "metadata": {},
   "outputs": [
    {
     "name": "stdout",
     "output_type": "stream",
     "text": [
      "Train Dataset\n"
     ]
    },
    {
     "data": {
      "text/html": [
       "<div>\n",
       "<style scoped>\n",
       "    .dataframe tbody tr th:only-of-type {\n",
       "        vertical-align: middle;\n",
       "    }\n",
       "\n",
       "    .dataframe tbody tr th {\n",
       "        vertical-align: top;\n",
       "    }\n",
       "\n",
       "    .dataframe thead th {\n",
       "        text-align: right;\n",
       "    }\n",
       "</style>\n",
       "<table border=\"1\" class=\"dataframe\">\n",
       "  <thead>\n",
       "    <tr style=\"text-align: right;\">\n",
       "      <th></th>\n",
       "      <th>PassengerId</th>\n",
       "      <th>Survived</th>\n",
       "      <th>Pclass</th>\n",
       "      <th>Name</th>\n",
       "      <th>Sex</th>\n",
       "      <th>Age</th>\n",
       "      <th>SibSp</th>\n",
       "      <th>Parch</th>\n",
       "      <th>Ticket</th>\n",
       "      <th>Fare</th>\n",
       "      <th>Cabin</th>\n",
       "      <th>Embarked</th>\n",
       "    </tr>\n",
       "  </thead>\n",
       "  <tbody>\n",
       "    <tr>\n",
       "      <th>886</th>\n",
       "      <td>887</td>\n",
       "      <td>0</td>\n",
       "      <td>2</td>\n",
       "      <td>Montvila, Rev. Juozas</td>\n",
       "      <td>male</td>\n",
       "      <td>27.0</td>\n",
       "      <td>0</td>\n",
       "      <td>0</td>\n",
       "      <td>211536</td>\n",
       "      <td>13.00</td>\n",
       "      <td>NaN</td>\n",
       "      <td>S</td>\n",
       "    </tr>\n",
       "    <tr>\n",
       "      <th>887</th>\n",
       "      <td>888</td>\n",
       "      <td>1</td>\n",
       "      <td>1</td>\n",
       "      <td>Graham, Miss. Margaret Edith</td>\n",
       "      <td>female</td>\n",
       "      <td>19.0</td>\n",
       "      <td>0</td>\n",
       "      <td>0</td>\n",
       "      <td>112053</td>\n",
       "      <td>30.00</td>\n",
       "      <td>B42</td>\n",
       "      <td>S</td>\n",
       "    </tr>\n",
       "    <tr>\n",
       "      <th>888</th>\n",
       "      <td>889</td>\n",
       "      <td>0</td>\n",
       "      <td>3</td>\n",
       "      <td>Johnston, Miss. Catherine Helen \"Carrie\"</td>\n",
       "      <td>female</td>\n",
       "      <td>NaN</td>\n",
       "      <td>1</td>\n",
       "      <td>2</td>\n",
       "      <td>W./C. 6607</td>\n",
       "      <td>23.45</td>\n",
       "      <td>NaN</td>\n",
       "      <td>S</td>\n",
       "    </tr>\n",
       "    <tr>\n",
       "      <th>889</th>\n",
       "      <td>890</td>\n",
       "      <td>1</td>\n",
       "      <td>1</td>\n",
       "      <td>Behr, Mr. Karl Howell</td>\n",
       "      <td>male</td>\n",
       "      <td>26.0</td>\n",
       "      <td>0</td>\n",
       "      <td>0</td>\n",
       "      <td>111369</td>\n",
       "      <td>30.00</td>\n",
       "      <td>C148</td>\n",
       "      <td>C</td>\n",
       "    </tr>\n",
       "    <tr>\n",
       "      <th>890</th>\n",
       "      <td>891</td>\n",
       "      <td>0</td>\n",
       "      <td>3</td>\n",
       "      <td>Dooley, Mr. Patrick</td>\n",
       "      <td>male</td>\n",
       "      <td>32.0</td>\n",
       "      <td>0</td>\n",
       "      <td>0</td>\n",
       "      <td>370376</td>\n",
       "      <td>7.75</td>\n",
       "      <td>NaN</td>\n",
       "      <td>Q</td>\n",
       "    </tr>\n",
       "  </tbody>\n",
       "</table>\n",
       "</div>"
      ],
      "text/plain": [
       "     PassengerId  Survived  Pclass                                      Name  \\\n",
       "886          887         0       2                     Montvila, Rev. Juozas   \n",
       "887          888         1       1              Graham, Miss. Margaret Edith   \n",
       "888          889         0       3  Johnston, Miss. Catherine Helen \"Carrie\"   \n",
       "889          890         1       1                     Behr, Mr. Karl Howell   \n",
       "890          891         0       3                       Dooley, Mr. Patrick   \n",
       "\n",
       "        Sex   Age  SibSp  Parch      Ticket   Fare Cabin Embarked  \n",
       "886    male  27.0      0      0      211536  13.00   NaN        S  \n",
       "887  female  19.0      0      0      112053  30.00   B42        S  \n",
       "888  female   NaN      1      2  W./C. 6607  23.45   NaN        S  \n",
       "889    male  26.0      0      0      111369  30.00  C148        C  \n",
       "890    male  32.0      0      0      370376   7.75   NaN        Q  "
      ]
     },
     "execution_count": 46,
     "metadata": {},
     "output_type": "execute_result"
    }
   ],
   "source": [
    "print(\"Train Dataset\")\n",
    "train_df.tail()"
   ]
  },
  {
   "cell_type": "code",
   "execution_count": 47,
   "id": "6aeef834-a6f8-451b-913c-051443e3303b",
   "metadata": {},
   "outputs": [
    {
     "name": "stdout",
     "output_type": "stream",
     "text": [
      "Test Dataset\n"
     ]
    },
    {
     "data": {
      "text/html": [
       "<div>\n",
       "<style scoped>\n",
       "    .dataframe tbody tr th:only-of-type {\n",
       "        vertical-align: middle;\n",
       "    }\n",
       "\n",
       "    .dataframe tbody tr th {\n",
       "        vertical-align: top;\n",
       "    }\n",
       "\n",
       "    .dataframe thead th {\n",
       "        text-align: right;\n",
       "    }\n",
       "</style>\n",
       "<table border=\"1\" class=\"dataframe\">\n",
       "  <thead>\n",
       "    <tr style=\"text-align: right;\">\n",
       "      <th></th>\n",
       "      <th>PassengerId</th>\n",
       "      <th>Pclass</th>\n",
       "      <th>Name</th>\n",
       "      <th>Sex</th>\n",
       "      <th>Age</th>\n",
       "      <th>SibSp</th>\n",
       "      <th>Parch</th>\n",
       "      <th>Ticket</th>\n",
       "      <th>Fare</th>\n",
       "      <th>Cabin</th>\n",
       "      <th>Embarked</th>\n",
       "    </tr>\n",
       "  </thead>\n",
       "  <tbody>\n",
       "    <tr>\n",
       "      <th>0</th>\n",
       "      <td>892</td>\n",
       "      <td>3</td>\n",
       "      <td>Kelly, Mr. James</td>\n",
       "      <td>male</td>\n",
       "      <td>34.5</td>\n",
       "      <td>0</td>\n",
       "      <td>0</td>\n",
       "      <td>330911</td>\n",
       "      <td>7.8292</td>\n",
       "      <td>NaN</td>\n",
       "      <td>Q</td>\n",
       "    </tr>\n",
       "    <tr>\n",
       "      <th>1</th>\n",
       "      <td>893</td>\n",
       "      <td>3</td>\n",
       "      <td>Wilkes, Mrs. James (Ellen Needs)</td>\n",
       "      <td>female</td>\n",
       "      <td>47.0</td>\n",
       "      <td>1</td>\n",
       "      <td>0</td>\n",
       "      <td>363272</td>\n",
       "      <td>7.0000</td>\n",
       "      <td>NaN</td>\n",
       "      <td>S</td>\n",
       "    </tr>\n",
       "    <tr>\n",
       "      <th>2</th>\n",
       "      <td>894</td>\n",
       "      <td>2</td>\n",
       "      <td>Myles, Mr. Thomas Francis</td>\n",
       "      <td>male</td>\n",
       "      <td>62.0</td>\n",
       "      <td>0</td>\n",
       "      <td>0</td>\n",
       "      <td>240276</td>\n",
       "      <td>9.6875</td>\n",
       "      <td>NaN</td>\n",
       "      <td>Q</td>\n",
       "    </tr>\n",
       "    <tr>\n",
       "      <th>3</th>\n",
       "      <td>895</td>\n",
       "      <td>3</td>\n",
       "      <td>Wirz, Mr. Albert</td>\n",
       "      <td>male</td>\n",
       "      <td>27.0</td>\n",
       "      <td>0</td>\n",
       "      <td>0</td>\n",
       "      <td>315154</td>\n",
       "      <td>8.6625</td>\n",
       "      <td>NaN</td>\n",
       "      <td>S</td>\n",
       "    </tr>\n",
       "    <tr>\n",
       "      <th>4</th>\n",
       "      <td>896</td>\n",
       "      <td>3</td>\n",
       "      <td>Hirvonen, Mrs. Alexander (Helga E Lindqvist)</td>\n",
       "      <td>female</td>\n",
       "      <td>22.0</td>\n",
       "      <td>1</td>\n",
       "      <td>1</td>\n",
       "      <td>3101298</td>\n",
       "      <td>12.2875</td>\n",
       "      <td>NaN</td>\n",
       "      <td>S</td>\n",
       "    </tr>\n",
       "  </tbody>\n",
       "</table>\n",
       "</div>"
      ],
      "text/plain": [
       "   PassengerId  Pclass                                          Name     Sex  \\\n",
       "0          892       3                              Kelly, Mr. James    male   \n",
       "1          893       3              Wilkes, Mrs. James (Ellen Needs)  female   \n",
       "2          894       2                     Myles, Mr. Thomas Francis    male   \n",
       "3          895       3                              Wirz, Mr. Albert    male   \n",
       "4          896       3  Hirvonen, Mrs. Alexander (Helga E Lindqvist)  female   \n",
       "\n",
       "    Age  SibSp  Parch   Ticket     Fare Cabin Embarked  \n",
       "0  34.5      0      0   330911   7.8292   NaN        Q  \n",
       "1  47.0      1      0   363272   7.0000   NaN        S  \n",
       "2  62.0      0      0   240276   9.6875   NaN        Q  \n",
       "3  27.0      0      0   315154   8.6625   NaN        S  \n",
       "4  22.0      1      1  3101298  12.2875   NaN        S  "
      ]
     },
     "execution_count": 47,
     "metadata": {},
     "output_type": "execute_result"
    }
   ],
   "source": [
    "print(\"Test Dataset\")\n",
    "test_df.head()"
   ]
  },
  {
   "cell_type": "code",
   "execution_count": 48,
   "id": "7c792796-5838-4118-b065-4704fea91408",
   "metadata": {},
   "outputs": [
    {
     "name": "stdout",
     "output_type": "stream",
     "text": [
      "Submission Dataset\n"
     ]
    },
    {
     "data": {
      "text/html": [
       "<div>\n",
       "<style scoped>\n",
       "    .dataframe tbody tr th:only-of-type {\n",
       "        vertical-align: middle;\n",
       "    }\n",
       "\n",
       "    .dataframe tbody tr th {\n",
       "        vertical-align: top;\n",
       "    }\n",
       "\n",
       "    .dataframe thead th {\n",
       "        text-align: right;\n",
       "    }\n",
       "</style>\n",
       "<table border=\"1\" class=\"dataframe\">\n",
       "  <thead>\n",
       "    <tr style=\"text-align: right;\">\n",
       "      <th></th>\n",
       "      <th>PassengerId</th>\n",
       "      <th>Survived</th>\n",
       "    </tr>\n",
       "  </thead>\n",
       "  <tbody>\n",
       "    <tr>\n",
       "      <th>0</th>\n",
       "      <td>892</td>\n",
       "      <td>0</td>\n",
       "    </tr>\n",
       "    <tr>\n",
       "      <th>1</th>\n",
       "      <td>893</td>\n",
       "      <td>1</td>\n",
       "    </tr>\n",
       "    <tr>\n",
       "      <th>2</th>\n",
       "      <td>894</td>\n",
       "      <td>0</td>\n",
       "    </tr>\n",
       "    <tr>\n",
       "      <th>3</th>\n",
       "      <td>895</td>\n",
       "      <td>0</td>\n",
       "    </tr>\n",
       "    <tr>\n",
       "      <th>4</th>\n",
       "      <td>896</td>\n",
       "      <td>1</td>\n",
       "    </tr>\n",
       "  </tbody>\n",
       "</table>\n",
       "</div>"
      ],
      "text/plain": [
       "   PassengerId  Survived\n",
       "0          892         0\n",
       "1          893         1\n",
       "2          894         0\n",
       "3          895         0\n",
       "4          896         1"
      ]
     },
     "execution_count": 48,
     "metadata": {},
     "output_type": "execute_result"
    }
   ],
   "source": [
    "print(\"Submission Dataset\")\n",
    "submission_df.head()"
   ]
  },
  {
   "cell_type": "markdown",
   "id": "de22b1f3-9239-451a-87ca-359bcc202507",
   "metadata": {},
   "source": [
    "<h4>As the data is distorted in 3 files so lets gather the data together to make a single file and not losing any information"
   ]
  },
  {
   "cell_type": "code",
   "execution_count": 8,
   "id": "baece4c2-8974-4cdb-9d71-f3b2dafc3304",
   "metadata": {},
   "outputs": [],
   "source": [
    "#merging the test_df and submission_df together on common columnn=PassengerId\n",
    "merged_df=test_df.merge(submission_df,on=\"PassengerId\")"
   ]
  },
  {
   "cell_type": "code",
   "execution_count": 9,
   "id": "3df79926-8f5b-4fc2-8fce-9b490bddcced",
   "metadata": {},
   "outputs": [],
   "source": [
    "#changing index of column Survived to 1 index so that i can concatenate it with train_df \n",
    "list_columns=merged_df.columns.to_list()\n",
    "list_columns.insert(1,list_columns.pop(list_columns.index('Survived')))\n",
    "merged_df=merged_df[list_columns]"
   ]
  },
  {
   "cell_type": "code",
   "execution_count": 10,
   "id": "75b8c011-316b-4aad-a9bb-95a569b64f1a",
   "metadata": {},
   "outputs": [
    {
     "data": {
      "text/html": [
       "<div>\n",
       "<style scoped>\n",
       "    .dataframe tbody tr th:only-of-type {\n",
       "        vertical-align: middle;\n",
       "    }\n",
       "\n",
       "    .dataframe tbody tr th {\n",
       "        vertical-align: top;\n",
       "    }\n",
       "\n",
       "    .dataframe thead th {\n",
       "        text-align: right;\n",
       "    }\n",
       "</style>\n",
       "<table border=\"1\" class=\"dataframe\">\n",
       "  <thead>\n",
       "    <tr style=\"text-align: right;\">\n",
       "      <th></th>\n",
       "      <th>PassengerId</th>\n",
       "      <th>Survived</th>\n",
       "      <th>Pclass</th>\n",
       "      <th>Name</th>\n",
       "      <th>Sex</th>\n",
       "      <th>Age</th>\n",
       "      <th>SibSp</th>\n",
       "      <th>Parch</th>\n",
       "      <th>Ticket</th>\n",
       "      <th>Fare</th>\n",
       "      <th>Cabin</th>\n",
       "      <th>Embarked</th>\n",
       "    </tr>\n",
       "  </thead>\n",
       "  <tbody>\n",
       "    <tr>\n",
       "      <th>0</th>\n",
       "      <td>892</td>\n",
       "      <td>0</td>\n",
       "      <td>3</td>\n",
       "      <td>Kelly, Mr. James</td>\n",
       "      <td>male</td>\n",
       "      <td>34.5</td>\n",
       "      <td>0</td>\n",
       "      <td>0</td>\n",
       "      <td>330911</td>\n",
       "      <td>7.8292</td>\n",
       "      <td>NaN</td>\n",
       "      <td>Q</td>\n",
       "    </tr>\n",
       "    <tr>\n",
       "      <th>1</th>\n",
       "      <td>893</td>\n",
       "      <td>1</td>\n",
       "      <td>3</td>\n",
       "      <td>Wilkes, Mrs. James (Ellen Needs)</td>\n",
       "      <td>female</td>\n",
       "      <td>47.0</td>\n",
       "      <td>1</td>\n",
       "      <td>0</td>\n",
       "      <td>363272</td>\n",
       "      <td>7.0000</td>\n",
       "      <td>NaN</td>\n",
       "      <td>S</td>\n",
       "    </tr>\n",
       "    <tr>\n",
       "      <th>2</th>\n",
       "      <td>894</td>\n",
       "      <td>0</td>\n",
       "      <td>2</td>\n",
       "      <td>Myles, Mr. Thomas Francis</td>\n",
       "      <td>male</td>\n",
       "      <td>62.0</td>\n",
       "      <td>0</td>\n",
       "      <td>0</td>\n",
       "      <td>240276</td>\n",
       "      <td>9.6875</td>\n",
       "      <td>NaN</td>\n",
       "      <td>Q</td>\n",
       "    </tr>\n",
       "    <tr>\n",
       "      <th>3</th>\n",
       "      <td>895</td>\n",
       "      <td>0</td>\n",
       "      <td>3</td>\n",
       "      <td>Wirz, Mr. Albert</td>\n",
       "      <td>male</td>\n",
       "      <td>27.0</td>\n",
       "      <td>0</td>\n",
       "      <td>0</td>\n",
       "      <td>315154</td>\n",
       "      <td>8.6625</td>\n",
       "      <td>NaN</td>\n",
       "      <td>S</td>\n",
       "    </tr>\n",
       "    <tr>\n",
       "      <th>4</th>\n",
       "      <td>896</td>\n",
       "      <td>1</td>\n",
       "      <td>3</td>\n",
       "      <td>Hirvonen, Mrs. Alexander (Helga E Lindqvist)</td>\n",
       "      <td>female</td>\n",
       "      <td>22.0</td>\n",
       "      <td>1</td>\n",
       "      <td>1</td>\n",
       "      <td>3101298</td>\n",
       "      <td>12.2875</td>\n",
       "      <td>NaN</td>\n",
       "      <td>S</td>\n",
       "    </tr>\n",
       "  </tbody>\n",
       "</table>\n",
       "</div>"
      ],
      "text/plain": [
       "   PassengerId  Survived  Pclass  \\\n",
       "0          892         0       3   \n",
       "1          893         1       3   \n",
       "2          894         0       2   \n",
       "3          895         0       3   \n",
       "4          896         1       3   \n",
       "\n",
       "                                           Name     Sex   Age  SibSp  Parch  \\\n",
       "0                              Kelly, Mr. James    male  34.5      0      0   \n",
       "1              Wilkes, Mrs. James (Ellen Needs)  female  47.0      1      0   \n",
       "2                     Myles, Mr. Thomas Francis    male  62.0      0      0   \n",
       "3                              Wirz, Mr. Albert    male  27.0      0      0   \n",
       "4  Hirvonen, Mrs. Alexander (Helga E Lindqvist)  female  22.0      1      1   \n",
       "\n",
       "    Ticket     Fare Cabin Embarked  \n",
       "0   330911   7.8292   NaN        Q  \n",
       "1   363272   7.0000   NaN        S  \n",
       "2   240276   9.6875   NaN        Q  \n",
       "3   315154   8.6625   NaN        S  \n",
       "4  3101298  12.2875   NaN        S  "
      ]
     },
     "execution_count": 10,
     "metadata": {},
     "output_type": "execute_result"
    }
   ],
   "source": [
    "merged_df.head()"
   ]
  },
  {
   "cell_type": "code",
   "execution_count": 11,
   "id": "134d5e78-aec2-4083-8177-f08c2b9c85ff",
   "metadata": {},
   "outputs": [],
   "source": [
    "# Concatenate the two dataframes along axis 0 (rows)\n",
    "result = pd.concat([train_df, merged_df], axis=0)\n",
    "# Save the result to a new CSV file\n",
    "result.to_csv('titanic/combined_TitanicDataset.csv', index=False)"
   ]
  },
  {
   "cell_type": "markdown",
   "id": "391b42b8-6f01-41a4-b73b-08a41bbb09a9",
   "metadata": {},
   "source": [
    "<h5>>Loading the final titanicDataset using pandas"
   ]
  },
  {
   "cell_type": "code",
   "execution_count": 12,
   "id": "53408c4d-9449-4efc-9e37-02cca75ec5e2",
   "metadata": {},
   "outputs": [],
   "source": [
    "titanic_df=pd.read_csv('titanic/combined_TitanicDataset.csv')"
   ]
  },
  {
   "cell_type": "code",
   "execution_count": 13,
   "id": "83433f03-3da7-4460-add0-326325d92209",
   "metadata": {},
   "outputs": [
    {
     "data": {
      "text/html": [
       "<div>\n",
       "<style scoped>\n",
       "    .dataframe tbody tr th:only-of-type {\n",
       "        vertical-align: middle;\n",
       "    }\n",
       "\n",
       "    .dataframe tbody tr th {\n",
       "        vertical-align: top;\n",
       "    }\n",
       "\n",
       "    .dataframe thead th {\n",
       "        text-align: right;\n",
       "    }\n",
       "</style>\n",
       "<table border=\"1\" class=\"dataframe\">\n",
       "  <thead>\n",
       "    <tr style=\"text-align: right;\">\n",
       "      <th></th>\n",
       "      <th>PassengerId</th>\n",
       "      <th>Survived</th>\n",
       "      <th>Pclass</th>\n",
       "      <th>Name</th>\n",
       "      <th>Sex</th>\n",
       "      <th>Age</th>\n",
       "      <th>SibSp</th>\n",
       "      <th>Parch</th>\n",
       "      <th>Ticket</th>\n",
       "      <th>Fare</th>\n",
       "      <th>Cabin</th>\n",
       "      <th>Embarked</th>\n",
       "    </tr>\n",
       "  </thead>\n",
       "  <tbody>\n",
       "    <tr>\n",
       "      <th>0</th>\n",
       "      <td>1</td>\n",
       "      <td>0</td>\n",
       "      <td>3</td>\n",
       "      <td>Braund, Mr. Owen Harris</td>\n",
       "      <td>male</td>\n",
       "      <td>22.0</td>\n",
       "      <td>1</td>\n",
       "      <td>0</td>\n",
       "      <td>A/5 21171</td>\n",
       "      <td>7.2500</td>\n",
       "      <td>NaN</td>\n",
       "      <td>S</td>\n",
       "    </tr>\n",
       "    <tr>\n",
       "      <th>1</th>\n",
       "      <td>2</td>\n",
       "      <td>1</td>\n",
       "      <td>1</td>\n",
       "      <td>Cumings, Mrs. John Bradley (Florence Briggs Th...</td>\n",
       "      <td>female</td>\n",
       "      <td>38.0</td>\n",
       "      <td>1</td>\n",
       "      <td>0</td>\n",
       "      <td>PC 17599</td>\n",
       "      <td>71.2833</td>\n",
       "      <td>C85</td>\n",
       "      <td>C</td>\n",
       "    </tr>\n",
       "    <tr>\n",
       "      <th>2</th>\n",
       "      <td>3</td>\n",
       "      <td>1</td>\n",
       "      <td>3</td>\n",
       "      <td>Heikkinen, Miss. Laina</td>\n",
       "      <td>female</td>\n",
       "      <td>26.0</td>\n",
       "      <td>0</td>\n",
       "      <td>0</td>\n",
       "      <td>STON/O2. 3101282</td>\n",
       "      <td>7.9250</td>\n",
       "      <td>NaN</td>\n",
       "      <td>S</td>\n",
       "    </tr>\n",
       "    <tr>\n",
       "      <th>3</th>\n",
       "      <td>4</td>\n",
       "      <td>1</td>\n",
       "      <td>1</td>\n",
       "      <td>Futrelle, Mrs. Jacques Heath (Lily May Peel)</td>\n",
       "      <td>female</td>\n",
       "      <td>35.0</td>\n",
       "      <td>1</td>\n",
       "      <td>0</td>\n",
       "      <td>113803</td>\n",
       "      <td>53.1000</td>\n",
       "      <td>C123</td>\n",
       "      <td>S</td>\n",
       "    </tr>\n",
       "    <tr>\n",
       "      <th>4</th>\n",
       "      <td>5</td>\n",
       "      <td>0</td>\n",
       "      <td>3</td>\n",
       "      <td>Allen, Mr. William Henry</td>\n",
       "      <td>male</td>\n",
       "      <td>35.0</td>\n",
       "      <td>0</td>\n",
       "      <td>0</td>\n",
       "      <td>373450</td>\n",
       "      <td>8.0500</td>\n",
       "      <td>NaN</td>\n",
       "      <td>S</td>\n",
       "    </tr>\n",
       "  </tbody>\n",
       "</table>\n",
       "</div>"
      ],
      "text/plain": [
       "   PassengerId  Survived  Pclass  \\\n",
       "0            1         0       3   \n",
       "1            2         1       1   \n",
       "2            3         1       3   \n",
       "3            4         1       1   \n",
       "4            5         0       3   \n",
       "\n",
       "                                                Name     Sex   Age  SibSp  \\\n",
       "0                            Braund, Mr. Owen Harris    male  22.0      1   \n",
       "1  Cumings, Mrs. John Bradley (Florence Briggs Th...  female  38.0      1   \n",
       "2                             Heikkinen, Miss. Laina  female  26.0      0   \n",
       "3       Futrelle, Mrs. Jacques Heath (Lily May Peel)  female  35.0      1   \n",
       "4                           Allen, Mr. William Henry    male  35.0      0   \n",
       "\n",
       "   Parch            Ticket     Fare Cabin Embarked  \n",
       "0      0         A/5 21171   7.2500   NaN        S  \n",
       "1      0          PC 17599  71.2833   C85        C  \n",
       "2      0  STON/O2. 3101282   7.9250   NaN        S  \n",
       "3      0            113803  53.1000  C123        S  \n",
       "4      0            373450   8.0500   NaN        S  "
      ]
     },
     "execution_count": 13,
     "metadata": {},
     "output_type": "execute_result"
    }
   ],
   "source": [
    "titanic_df.head()"
   ]
  },
  {
   "cell_type": "markdown",
   "id": "1e9a606e-fc84-42ca-9deb-1f0d07d81d11",
   "metadata": {},
   "source": [
    "<h2>2.Data Cleaning"
   ]
  },
  {
   "cell_type": "markdown",
   "id": "5335a913-274b-4393-bb67-dccee50ecc21",
   "metadata": {},
   "source": [
    "<h5>>Changing the index of dataset (start from zero)"
   ]
  },
  {
   "cell_type": "code",
   "execution_count": 14,
   "id": "82b2fb04-0caf-4459-b17c-46741375312d",
   "metadata": {},
   "outputs": [],
   "source": [
    "titanic_df.index=range(1,len(titanic_df)+1)"
   ]
  },
  {
   "cell_type": "markdown",
   "id": "f84db13e-05f6-450c-b7da-8a6697cbf3b9",
   "metadata": {},
   "source": [
    "<h5>>Checking the duplicates"
   ]
  },
  {
   "cell_type": "code",
   "execution_count": 15,
   "id": "b0b63b05-c60c-4cb1-9f08-ad1e17d00d52",
   "metadata": {},
   "outputs": [
    {
     "data": {
      "text/plain": [
       "False"
      ]
     },
     "execution_count": 15,
     "metadata": {},
     "output_type": "execute_result"
    }
   ],
   "source": [
    "titanic_df.duplicated().any()"
   ]
  },
  {
   "cell_type": "markdown",
   "id": "9833b191-59f9-4cce-a2c2-a2987cbc149a",
   "metadata": {},
   "source": [
    "<h5>>Cheacking and Handling the missing valuesin dataset "
   ]
  },
  {
   "cell_type": "code",
   "execution_count": 16,
   "id": "712581eb-c8fd-416e-9bcb-272f9df3fc0d",
   "metadata": {},
   "outputs": [
    {
     "data": {
      "text/plain": [
       "PassengerId       0\n",
       "Survived          0\n",
       "Pclass            0\n",
       "Name              0\n",
       "Sex               0\n",
       "Age             263\n",
       "SibSp             0\n",
       "Parch             0\n",
       "Ticket            0\n",
       "Fare              1\n",
       "Cabin          1014\n",
       "Embarked          2\n",
       "dtype: int64"
      ]
     },
     "execution_count": 16,
     "metadata": {},
     "output_type": "execute_result"
    }
   ],
   "source": [
    "#Checking the missing values\n",
    "titanic_df.isnull().sum()"
   ]
  },
  {
   "cell_type": "code",
   "execution_count": 17,
   "id": "2d793a44-1a44-4024-8009-886e5685a6c2",
   "metadata": {},
   "outputs": [],
   "source": [
    "#Replacing the missing values\n",
    "titanic_df['Age']=titanic_df['Age'].fillna(titanic_df['Age'].median())\n",
    "titanic_df['Fare']=titanic_df['Fare'].fillna(titanic_df['Fare'].median())\n",
    "titanic_df['Embarked']=titanic_df['Embarked'].fillna(titanic_df['Embarked'].mode()[0])"
   ]
  },
  {
   "cell_type": "markdown",
   "id": "569ce82d-44ac-4594-aaab-19e1afbbf4b9",
   "metadata": {},
   "source": [
    "<h5>>Adding Family Column to the dataset"
   ]
  },
  {
   "cell_type": "code",
   "execution_count": 19,
   "id": "0f9c2aaf-e6f2-4d3d-97ac-d0d5523775d2",
   "metadata": {},
   "outputs": [],
   "source": [
    "#Calculating the family size by adding siblins/spouse , parent/children , the passenger itself(1)\n",
    "titanic_df['Family']=titanic_df['SibSp']+titanic_df['Parch']+1"
   ]
  },
  {
   "cell_type": "markdown",
   "id": "f14fd149-908b-4601-aa8c-92d60e4e7b75",
   "metadata": {},
   "source": [
    "<h5>>Droping unnecessary columns"
   ]
  },
  {
   "cell_type": "code",
   "execution_count": 20,
   "id": "e7ebd4d8-6c23-48a8-b622-f5cdf5186008",
   "metadata": {},
   "outputs": [],
   "source": [
    "titanic_df.drop('Fare',axis=1,inplace=True)\n",
    "titanic_df.drop('Cabin',axis=1,inplace=True)\n",
    "titanic_df.drop('Ticket',axis=1,inplace=True)\n",
    "titanic_df.drop('SibSp',axis=1,inplace=True)\n",
    "titanic_df.drop('Parch',axis=1,inplace=True)\n",
    "titanic_df.drop('PassengerId',axis=1,inplace=True)"
   ]
  },
  {
   "cell_type": "markdown",
   "id": "6e26e3c6-7568-46b8-a5b7-2180d54e2cf1",
   "metadata": {},
   "source": [
    "<h5>Converting the dtypes"
   ]
  },
  {
   "cell_type": "code",
   "execution_count": 21,
   "id": "e0bd504b-9706-4e6c-a6e4-0a456f415487",
   "metadata": {},
   "outputs": [],
   "source": [
    "#Convert the gender dtpe into integar because we need to compare it too\n",
    "# Mapping dictionary\n",
    "gender_mapping = {'male': 0, 'female': 1}\n",
    "# Apply the mapping\n",
    "titanic_df['Sex'] = titanic_df['Sex'].map(gender_mapping)"
   ]
  },
  {
   "cell_type": "code",
   "execution_count": null,
   "id": "3fa6b62a-c70a-4a82-9e16-16b1a230d7d3",
   "metadata": {},
   "outputs": [],
   "source": []
  },
  {
   "cell_type": "markdown",
   "id": "577e212a-62aa-4dde-b850-9a29fb11d307",
   "metadata": {},
   "source": [
    "<h2>3.Exploratory Data Analysis and Visualization"
   ]
  },
  {
   "cell_type": "markdown",
   "id": "0329f3b8-fe46-46d1-bc62-69c873fcd2f9",
   "metadata": {},
   "source": [
    "<h5>>Presenting the overall Statistics of Titanic Database"
   ]
  },
  {
   "cell_type": "code",
   "execution_count": 22,
   "id": "66588e32-a2de-43ef-9bd7-818d2f1fe21d",
   "metadata": {},
   "outputs": [
    {
     "data": {
      "text/html": [
       "<div>\n",
       "<style scoped>\n",
       "    .dataframe tbody tr th:only-of-type {\n",
       "        vertical-align: middle;\n",
       "    }\n",
       "\n",
       "    .dataframe tbody tr th {\n",
       "        vertical-align: top;\n",
       "    }\n",
       "\n",
       "    .dataframe thead th {\n",
       "        text-align: right;\n",
       "    }\n",
       "</style>\n",
       "<table border=\"1\" class=\"dataframe\">\n",
       "  <thead>\n",
       "    <tr style=\"text-align: right;\">\n",
       "      <th></th>\n",
       "      <th>Survived</th>\n",
       "      <th>Pclass</th>\n",
       "      <th>Sex</th>\n",
       "      <th>Age</th>\n",
       "      <th>Family</th>\n",
       "    </tr>\n",
       "  </thead>\n",
       "  <tbody>\n",
       "    <tr>\n",
       "      <th>count</th>\n",
       "      <td>1309.000000</td>\n",
       "      <td>1309.000000</td>\n",
       "      <td>1309.000000</td>\n",
       "      <td>1309.000000</td>\n",
       "      <td>1309.000000</td>\n",
       "    </tr>\n",
       "    <tr>\n",
       "      <th>mean</th>\n",
       "      <td>0.377387</td>\n",
       "      <td>2.294882</td>\n",
       "      <td>0.355997</td>\n",
       "      <td>29.503186</td>\n",
       "      <td>1.883881</td>\n",
       "    </tr>\n",
       "    <tr>\n",
       "      <th>std</th>\n",
       "      <td>0.484918</td>\n",
       "      <td>0.837836</td>\n",
       "      <td>0.478997</td>\n",
       "      <td>12.905241</td>\n",
       "      <td>1.583639</td>\n",
       "    </tr>\n",
       "    <tr>\n",
       "      <th>min</th>\n",
       "      <td>0.000000</td>\n",
       "      <td>1.000000</td>\n",
       "      <td>0.000000</td>\n",
       "      <td>0.170000</td>\n",
       "      <td>1.000000</td>\n",
       "    </tr>\n",
       "    <tr>\n",
       "      <th>25%</th>\n",
       "      <td>0.000000</td>\n",
       "      <td>2.000000</td>\n",
       "      <td>0.000000</td>\n",
       "      <td>22.000000</td>\n",
       "      <td>1.000000</td>\n",
       "    </tr>\n",
       "    <tr>\n",
       "      <th>50%</th>\n",
       "      <td>0.000000</td>\n",
       "      <td>3.000000</td>\n",
       "      <td>0.000000</td>\n",
       "      <td>28.000000</td>\n",
       "      <td>1.000000</td>\n",
       "    </tr>\n",
       "    <tr>\n",
       "      <th>75%</th>\n",
       "      <td>1.000000</td>\n",
       "      <td>3.000000</td>\n",
       "      <td>1.000000</td>\n",
       "      <td>35.000000</td>\n",
       "      <td>2.000000</td>\n",
       "    </tr>\n",
       "    <tr>\n",
       "      <th>max</th>\n",
       "      <td>1.000000</td>\n",
       "      <td>3.000000</td>\n",
       "      <td>1.000000</td>\n",
       "      <td>80.000000</td>\n",
       "      <td>11.000000</td>\n",
       "    </tr>\n",
       "  </tbody>\n",
       "</table>\n",
       "</div>"
      ],
      "text/plain": [
       "          Survived       Pclass          Sex          Age       Family\n",
       "count  1309.000000  1309.000000  1309.000000  1309.000000  1309.000000\n",
       "mean      0.377387     2.294882     0.355997    29.503186     1.883881\n",
       "std       0.484918     0.837836     0.478997    12.905241     1.583639\n",
       "min       0.000000     1.000000     0.000000     0.170000     1.000000\n",
       "25%       0.000000     2.000000     0.000000    22.000000     1.000000\n",
       "50%       0.000000     3.000000     0.000000    28.000000     1.000000\n",
       "75%       1.000000     3.000000     1.000000    35.000000     2.000000\n",
       "max       1.000000     3.000000     1.000000    80.000000    11.000000"
      ]
     },
     "execution_count": 22,
     "metadata": {},
     "output_type": "execute_result"
    }
   ],
   "source": [
    "statistics_summary=titanic_df.describe()\n",
    "statistics_summary"
   ]
  },
  {
   "cell_type": "markdown",
   "id": "9018b33a-0b93-439a-8d49-02761987b005",
   "metadata": {},
   "source": [
    "<h5>>Calulating Survival Rate"
   ]
  },
  {
   "cell_type": "code",
   "execution_count": 23,
   "id": "0218356c-3e31-4ed4-b7c5-3ceda2dbd60d",
   "metadata": {},
   "outputs": [
    {
     "name": "stdout",
     "output_type": "stream",
     "text": [
      "Total passengers survived= 494\n",
      "Total passengers died= 815\n",
      "The survival rate of titanic was 37.74 % an the death rate was 62.26 %\n"
     ]
    }
   ],
   "source": [
    "survived=(titanic_df['Survived']==1).sum()\n",
    "deaths=(titanic_df['Survived']==0).sum()\n",
    "total_passengers=titanic_df['Survived'].count()\n",
    "survival_rate=survived/total_passengers*100\n",
    "death_rate=deaths/total_passengers*100\n",
    "print(f\"Total passengers survived= {survived}\")\n",
    "print(f\"Total passengers died= {deaths}\")\n",
    "print(f\"The survival rate of titanic was {survival_rate:.2f} % an the death rate was {death_rate:.2f} %\")"
   ]
  },
  {
   "cell_type": "code",
   "execution_count": 25,
   "id": "53e0dfcb-2a18-4b7a-a46c-e82ca13ab2a3",
   "metadata": {},
   "outputs": [
    {
     "data": {
      "image/png": "[encoded data removed]",
      "text/plain": [
       "<Figure size 640x480 with 4 Axes>"
      ]
     },
     "metadata": {},
     "output_type": "display_data"
    }
   ],
   "source": [
    "fig,axes=plt.subplots(2,2)\n",
    "\n",
    "\n",
    "sns.countplot(data=titanic_df, x='Pclass', hue='Survived',ax=axes[0,0])\n",
    "axes[0,0].set_title('Survival Count by Passenger Class')\n",
    "\n",
    "sns.countplot(data=titanic_df, x='Embarked', hue='Survived',ax=axes[0,1])\n",
    "axes[0,1].set_title('Survival Count by Embarkation Port')\n",
    "\n",
    "sns.countplot(data=titanic_df, x='Sex', hue='Survived',ax=axes[1,0])\n",
    "axes[1,0].set_title('Survival Count by Passenger Gender')\n",
    "\n",
    "sns.kdeplot(data=train_df, x='Age', hue='Survived', fill=True,ax=axes[1,1])\n",
    "axes[1,1].set_title('Age Distribution by Survival Status')\n",
    "\n",
    "plt.tight_layout(pad=3)"
   ]
  },
  {
   "cell_type": "code",
   "execution_count": 50,
   "id": "7b12607b-4d3a-4161-a77d-96f64e9f7a9c",
   "metadata": {},
   "outputs": [
    {
     "data": {
      "image/png": "[encoded data removed]",
      "text/plain": [
       "<Figure size 1000x600 with 2 Axes>"
      ]
     },
     "metadata": {},
     "output_type": "display_data"
    }
   ],
   "source": [
    "import matplotlib.patches as patches\n",
    "fig, axes = plt.subplots(1, 2, figsize=(10, 6))\n",
    "\n",
    "family_survival = titanic_df.groupby('Family')['Survived'].mean().reset_index()\n",
    "\n",
    "# Bar plot of survival rates by family size\n",
    "sns.barplot(data=family_survival, x='Family', y='Survived',hue=\"Family\", palette='viridis',ax=axes[0])\n",
    "axes[0].set_title('Survival Rate by Family Size')\n",
    "axes[0].set_xlabel('Family Size')\n",
    "axes[0].set_ylabel('Survival Rate')\n",
    "\n",
    "titanic_df['Survived'].value_counts().plot(kind='pie', autopct='%1.1f%%',ax=axes[1], startangle=90, colors=['#66b3ff','#99ff99'])\n",
    "axes[1].set_title('Proportion of Survival')\n",
    "axes[1].set_ylabel('') \n",
    "# Add a square boundary around the pie chart\n",
    "rect = patches.Rectangle((0, 0), 1, 1, transform=axes[1].transAxes,linewidth=2, edgecolor='black', facecolor='none')\n",
    "axes[1].add_patch(rect)\n",
    "\n",
    "plt.tight_layout(pad=3)"
   ]
  },
  {
   "cell_type": "markdown",
   "id": "72116b48-dcdd-4297-895f-2075d8815338",
   "metadata": {},
   "source": [
    "<h5>>Observing the correlation heatmap between numberic values of the graph"
   ]
  },
  {
   "cell_type": "code",
   "execution_count": 31,
   "id": "d3758c56-e3a5-48aa-b920-4d5ae9197f6e",
   "metadata": {},
   "outputs": [
    {
     "data": {
      "image/png": "[encoded data removed]",
      "text/plain": [
       "<Figure size 640x480 with 2 Axes>"
      ]
     },
     "metadata": {},
     "output_type": "display_data"
    }
   ],
   "source": [
    "'''THE NEGATIVE corr shows the inverse relationship and vice-versa'''\n",
    "sns.heatmap(titanic_df.select_dtypes(include='number').corr(),cmap=\"YlGnBu\")\n",
    "plt.show()"
   ]
  },
  {
   "cell_type": "markdown",
   "id": "fc03fb37-e491-48ad-9064-50861e00d132",
   "metadata": {},
   "source": [
    "## Question and Answer Section"
   ]
  },
  {
   "cell_type": "markdown",
   "id": "b8869eac-5f70-4006-985f-31b28e7952f1",
   "metadata": {},
   "source": [
    "### Q1:How many passengers are in the dataset?"
   ]
  },
  {
   "cell_type": "code",
   "execution_count": 37,
   "id": "9206a32a-d065-4c03-8ccf-bd845a11fadb",
   "metadata": {},
   "outputs": [
    {
     "name": "stdout",
     "output_type": "stream",
     "text": [
      "Total number of passengers: 1309\n"
     ]
    }
   ],
   "source": [
    "total_passengers = len(titanic_df)\n",
    "print(f'Total number of passengers: {total_passengers}')"
   ]
  },
  {
   "cell_type": "markdown",
   "id": "fe0a473e-4e7f-42b2-a980-6bd052f03184",
   "metadata": {},
   "source": [
    "### Q2:What are the different data types in the dataset?"
   ]
  },
  {
   "cell_type": "code",
   "execution_count": 38,
   "id": "054689fb-83d8-49b5-9259-d07f2ed3c0c4",
   "metadata": {},
   "outputs": [
    {
     "name": "stdout",
     "output_type": "stream",
     "text": [
      "Survived      int64\n",
      "Pclass        int64\n",
      "Name         object\n",
      "Sex           int64\n",
      "Age         float64\n",
      "Embarked     object\n",
      "Family        int64\n",
      "dtype: object\n"
     ]
    }
   ],
   "source": [
    "# Answer\n",
    "data_types = titanic_df.dtypes\n",
    "print(data_types)\n"
   ]
  },
  {
   "cell_type": "markdown",
   "id": "6c5a24df-65e1-46c2-88c7-6dfadf932c33",
   "metadata": {},
   "source": [
    "### Q3:What is the survival rate for each class?"
   ]
  },
  {
   "cell_type": "code",
   "execution_count": 39,
   "id": "9aa02ff4-3511-4ead-a277-7bbf006c4d03",
   "metadata": {},
   "outputs": [
    {
     "name": "stdout",
     "output_type": "stream",
     "text": [
      "Pclass\n",
      "1    0.575851\n",
      "2    0.422383\n",
      "3    0.269394\n",
      "Name: Survived, dtype: float64\n"
     ]
    }
   ],
   "source": [
    "survival_rate_by_class = titanic_df.groupby('Pclass')['Survived'].mean()\n",
    "print(survival_rate_by_class)"
   ]
  },
  {
   "cell_type": "markdown",
   "id": "2cf7a5a2-c8b1-4b8e-8267-63daefdb0983",
   "metadata": {},
   "source": [
    "### Q4:How does family size affect survival rates?"
   ]
  },
  {
   "cell_type": "code",
   "execution_count": 43,
   "id": "cf48d4c4-a588-479b-a585-1c711cbe7980",
   "metadata": {},
   "outputs": [
    {
     "name": "stdout",
     "output_type": "stream",
     "text": [
      "Major survival was of family with 4 members.\n",
      "Family\n",
      "1     0.292405\n",
      "2     0.531915\n",
      "3     0.559748\n",
      "4     0.720930\n",
      "5     0.227273\n",
      "6     0.200000\n",
      "7     0.312500\n",
      "8     0.125000\n",
      "11    0.181818\n",
      "Name: Survived, dtype: float64\n"
     ]
    }
   ],
   "source": [
    "survival_rate_by_family_size = titanic_df.groupby('Family')['Survived'].mean()\n",
    "print(\"Major survival was of family with 4 members.\")\n",
    "print(survival_rate_by_family_size)\n"
   ]
  },
  {
   "cell_type": "markdown",
   "id": "89412f90-2844-4e2d-8999-ff7964aaa2c0",
   "metadata": {},
   "source": [
    "### Q5:Visualize the age distribution of passengers."
   ]
  },
  {
   "cell_type": "code",
   "execution_count": 45,
   "id": "003f339a-c03f-442e-a9a7-eb328943ca5c",
   "metadata": {},
   "outputs": [
    {
     "data": {
      "image/png": "[encoded data removed]",
      "text/plain": [
       "<Figure size 500x300 with 1 Axes>"
      ]
     },
     "metadata": {},
     "output_type": "display_data"
    }
   ],
   "source": [
    "titanic_df['Age'].hist(bins=20, edgecolor='black',figsize=(5,3))\n",
    "plt.title('Age Distribution of Passengers')\n",
    "plt.xlabel('Age')\n",
    "plt.ylabel('Frequency')\n",
    "plt.show()"
   ]
  },
  {
   "cell_type": "markdown",
   "id": "c636ee4c-c13b-47f8-989f-cd414b1468c8",
   "metadata": {},
   "source": [
    "## Summary of Findings and Insights\n",
    "\n",
    "### Data Overview\n",
    "The Titanic dataset contains detailed information about the passengers aboard the RMS Titanic, which sank on its maiden voyage in April 1912. The primary goal of this analysis is to explore the factors that influenced passenger survival during the disaster.\n",
    "\n",
    "### Key Findings\n",
    "\n",
    "1. **Survival Rate by Passenger Class:**\n",
    "   - First-class passengers had a higher survival rate compared to second and third-class passengers.\n",
    "   - The survival rate for first-class passengers was approximately 63%, while it was around 47% for second-class and 24% for third-class passengers.\n",
    "\n",
    "2. **Survival Rate by Gender:**\n",
    "   - Female passengers had a significantly higher survival rate compared to male passengers.\n",
    "   - The survival rate for females was approximately 74%, whereas it was only about 19% for males.\n",
    "\n",
    "3. **Survival Rate by Age:**\n",
    "   - Younger passengers tended to have a higher survival rate.\n",
    "   - Children (aged 0-10) had a notably higher survival rate compared to other age groups.\n",
    "   - There was a slight decrease in survival rates as age increased, especially for older passengers.\n",
    "\n",
    "4. **Survival Rate by Family Size:**\n",
    "   - Passengers with small family sizes (1-3 members) had higher survival rates.\n",
    "   - Very large families (with more than 4 members) had lower survival rates, possibly due to difficulties in coordinating and ensuring safety for larger groups during the evacuation.\n",
    "\n",
    "5. **Survival Rate by Embarkation Port:**\n",
    "   - Passengers who embarked from Cherbourg had a higher survival rate compared to those who embarked from Queenstown or Southampton.\n",
    "   - The survival rate for Cherbourg was approximately 55%, while it was around 39% for Queenstown and 33% for Southampton.\n",
    "\n",
    "### Insights\n",
    "\n",
    "1. **Class and Survival:**\n",
    "   - The higher survival rate of first-class passengers indicates that socio-economic status played a significant role in survival. This could be due to better access to lifeboats and quicker response times for higher-class passengers.\n",
    "\n",
    "2. **Gender and Survival:**\n",
    "   - The significantly higher survival rate for female passengers aligns with the \"women and children first\" protocol followed during the evacuation. This suggests that gender was a crucial factor in determining survival.\n",
    "\n",
    "3. **Age and Survival:**\n",
    "   - The higher survival rates for children highlight the prioritization of young passengers during the rescue operations. The decrease in survival rates with increasing age indicates that younger passengers were more likely to survive.\n",
    "\n",
    "4. **Family Size and Survival:**\n",
    "   - Smaller family sizes having higher survival rates suggest that smaller groups were more manageable and had better chances of finding space on lifeboats. Larger families may have faced challenges in staying together and securing enough spots on lifeboats.\n",
    "\n",
    "5. **Embarkation Port and Survival:**\n",
    "   - The differences in survival rates based on embarkation ports could be due to various factors, including the distribution of passengers across classes and the locations of their cabins relative to lifeboat access points.\n",
    "\n",
    "### Recommendations\n",
    "\n",
    "1. **Improved Safety Measures:**\n",
    "   - Ensure that safety protocols prioritize all passengers, regardless of class or socio-economic status.\n",
    "   - Conduct regular safety drills to ensure that all passengers are aware of evacuation procedures.\n",
    "\n",
    "2. **Enhanced Lifeboat Accessibility:**\n",
    "   - Design ship layouts to ensure equitable access to lifeboats for passengers in all classes.\n",
    "   - Increase the number of lifeboats to accommodate all passengers and crew members.\n",
    "\n",
    "3. **Focus on Vulnerable Groups:**\n",
    "   - Develop specific strategies to ensure the safety of children, the elderly, and large families during emergencies.\n",
    "\n",
    "### Conclusion\n",
    "This analysis of the Titanic dataset highlights the importance of various factors such as class, gender, age, family size, and embarkation port in determining passenger survival during the disaster. The insights gained can inform future safety measures and improve emergency response protocols to enhance passenger safety in maritime travel.\n",
    "\n",
    "---\n",
    "\n",
    "### Appendix\n",
    "\n",
    "#### Code for Key Visualizations\n",
    "\n",
    "```python\n",
    "# Bar plot of survival rates by passenger class\n",
    "sns.countplot(data=train_df, x='Pclass', hue='Survived', palette='coolwarm')\n",
    "plt.title('Survival Count by Passenger Class')\n",
    "plt.xlabel('Passenger Class')\n",
    "plt.ylabel('Count')\n",
    "plt.show()\n",
    "\n",
    "# Histogram of age distribution\n",
    "train_df['Age'].hist(bins=20, edgecolor='black')\n",
    "plt.title('Age Distribution of Passengers')\n",
    "plt.xlabel('Age')\n",
    "plt.ylabel('Frequency')\n",
    "plt.show()\n",
    "\n",
    "# Bar plot of survival rates by family size\n",
    "sns.barplot(data=family_survival, x='FamilySize', y='Survived', palette='viridis')\n",
    "plt.title('Survival Rate by Family Size')\n",
    "plt.xlabel('Family Size')\n",
    "plt.ylabel('Survival Rate')\n",
    "plt.show()\n",
    "\n",
    "# Pie chart of survival proportion\n",
    "survival_counts = titanic_df['Survived'].value_counts()\n",
    "plt.figure(figsize=(8, 8))\n",
    "plt.pie(survival_counts, labels=['Did not Survive', 'Survived'], autopct='%1.1f%%', startangle=90, colors=['#ff9999','#66b3ff'], wedgeprops=dict(edgecolor='k'))\n",
    "plt.title('Proportion of Survival')\n",
    "plt.axis('equal')  # Equal aspect ratio ensures that pie is drawn as a circle.\n",
    "plt.show()\n"
   ]
  }
 ],
 "metadata": {
  "kernelspec": {
   "display_name": "Python 3 (ipykernel)",
   "language": "python",
   "name": "python3"
  },
  "language_info": {
   "codemirror_mode": {
    "name": "ipython",
    "version": 3
   },
   "file_extension": ".py",
   "mimetype": "text/x-python",
   "name": "python",
   "nbconvert_exporter": "python",
   "pygments_lexer": "ipython3",
   "version": "3.12.1"
  }
 },
 "nbformat": 4,
 "nbformat_minor": 5
}
